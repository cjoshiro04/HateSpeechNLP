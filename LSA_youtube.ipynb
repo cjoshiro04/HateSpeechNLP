{
 "cells": [
  {
   "cell_type": "code",
   "execution_count": 152,
   "metadata": {
    "colab": {
     "base_uri": "https://localhost:8080/"
    },
    "id": "buoGLE2NADVO",
    "outputId": "e4ca7e4c-82fd-4af9-c6ae-3c432b8e976c",
    "scrolled": true
   },
   "outputs": [
    {
     "name": "stderr",
     "output_type": "stream",
     "text": [
      "[nltk_data] Downloading package punkt to\n",
      "[nltk_data]     /Users/codyoshiro/nltk_data...\n",
      "[nltk_data]   Package punkt is already up-to-date!\n",
      "[nltk_data] Downloading package stopwords to\n",
      "[nltk_data]     /Users/codyoshiro/nltk_data...\n",
      "[nltk_data]   Package stopwords is already up-to-date!\n",
      "[nltk_data] Downloading package wordnet to\n",
      "[nltk_data]     /Users/codyoshiro/nltk_data...\n",
      "[nltk_data]   Package wordnet is already up-to-date!\n"
     ]
    },
    {
     "data": {
      "text/plain": [
       "True"
      ]
     },
     "execution_count": 152,
     "metadata": {},
     "output_type": "execute_result"
    }
   ],
   "source": [
    "from sklearn.feature_extraction.text import TfidfVectorizer\n",
    "from sklearn.decomposition import TruncatedSVD\n",
    "import pandas as pd\n",
    "\n",
    "import re\n",
    "import nltk\n",
    "from nltk.corpus import stopwords\n",
    "from nltk.tokenize import word_tokenize\n",
    "from nltk.stem import WordNetLemmatizer\n",
    "\n",
    "nltk.download('punkt')\n",
    "nltk.download('stopwords')\n",
    "nltk.download('wordnet')"
   ]
  },
  {
   "cell_type": "code",
   "execution_count": 153,
   "metadata": {
    "id": "uOEZ7QwbJRhk"
   },
   "outputs": [],
   "source": [
    "data = pd.read_csv(\"YouTube.csv\")"
   ]
  },
  {
   "cell_type": "code",
   "execution_count": 154,
   "metadata": {
    "colab": {
     "base_uri": "https://localhost:8080/",
     "height": 545
    },
    "id": "X7D99mEuJmQD",
    "outputId": "94bcfb93-1220-44b3-f7d6-0b188ad987a7"
   },
   "outputs": [
    {
     "data": {
      "text/html": [
       "<div>\n",
       "<style scoped>\n",
       "    .dataframe tbody tr th:only-of-type {\n",
       "        vertical-align: middle;\n",
       "    }\n",
       "\n",
       "    .dataframe tbody tr th {\n",
       "        vertical-align: top;\n",
       "    }\n",
       "\n",
       "    .dataframe thead th {\n",
       "        text-align: right;\n",
       "    }\n",
       "</style>\n",
       "<table border=\"1\" class=\"dataframe\">\n",
       "  <thead>\n",
       "    <tr style=\"text-align: right;\">\n",
       "      <th></th>\n",
       "      <th>ID</th>\n",
       "      <th>Video Title</th>\n",
       "      <th>Views</th>\n",
       "      <th>Likes</th>\n",
       "      <th>Dislikes</th>\n",
       "      <th>Transcript</th>\n",
       "      <th>class</th>\n",
       "    </tr>\n",
       "  </thead>\n",
       "  <tbody>\n",
       "    <tr>\n",
       "      <th>0</th>\n",
       "      <td>hxwpkM5w3Cc</td>\n",
       "      <td>I Got Hunted By The FBI</td>\n",
       "      <td>42724724</td>\n",
       "      <td>2005151</td>\n",
       "      <td>24646</td>\n",
       "      <td>- I tied up an FBI agent.\\n(words pop)If he st...</td>\n",
       "      <td>1</td>\n",
       "    </tr>\n",
       "    <tr>\n",
       "      <th>1</th>\n",
       "      <td>81mXAkFEkMs</td>\n",
       "      <td>10 Real Life Giants You Won't Believe Exist</td>\n",
       "      <td>6890718</td>\n",
       "      <td>15222</td>\n",
       "      <td>2858</td>\n",
       "      <td>hey what's happening y'all welcome backto anot...</td>\n",
       "      <td>1</td>\n",
       "    </tr>\n",
       "    <tr>\n",
       "      <th>2</th>\n",
       "      <td>9NQQKNAwaPk</td>\n",
       "      <td>10 Mythical CREATURES That Actually Existed</td>\n",
       "      <td>2089601</td>\n",
       "      <td>46750</td>\n",
       "      <td>1954</td>\n",
       "      <td>I used to taste your daddy who doesn'tlove a g...</td>\n",
       "      <td>1</td>\n",
       "    </tr>\n",
       "    <tr>\n",
       "      <th>3</th>\n",
       "      <td>Y_PQrPRolvM</td>\n",
       "      <td>Real Giants Caught On Camera!</td>\n",
       "      <td>518170</td>\n",
       "      <td>4033</td>\n",
       "      <td>271</td>\n",
       "      <td>Hi!\\nWho said that giants are imaginary and on...</td>\n",
       "      <td>1</td>\n",
       "    </tr>\n",
       "    <tr>\n",
       "      <th>4</th>\n",
       "      <td>ZZtYAOpHVYk</td>\n",
       "      <td>10 Real Life GIANTS</td>\n",
       "      <td>9244943</td>\n",
       "      <td>64025</td>\n",
       "      <td>6508</td>\n",
       "      <td>[Music]hey guys what's up it's charlie here an...</td>\n",
       "      <td>1</td>\n",
       "    </tr>\n",
       "    <tr>\n",
       "      <th>...</th>\n",
       "      <td>...</td>\n",
       "      <td>...</td>\n",
       "      <td>...</td>\n",
       "      <td>...</td>\n",
       "      <td>...</td>\n",
       "      <td>...</td>\n",
       "      <td>...</td>\n",
       "    </tr>\n",
       "    <tr>\n",
       "      <th>150</th>\n",
       "      <td>x_qSdnjhbw4</td>\n",
       "      <td>Building an UNBREAKABLE TESSERACT CUBE!</td>\n",
       "      <td>1687124</td>\n",
       "      <td>81479</td>\n",
       "      <td>1474</td>\n",
       "      <td>Of course, the main priority\\nis to make the b...</td>\n",
       "      <td>0</td>\n",
       "    </tr>\n",
       "    <tr>\n",
       "      <th>151</th>\n",
       "      <td>PugcxQYJGjs</td>\n",
       "      <td>Lanky Kong listens to DK Rap for the first time</td>\n",
       "      <td>839745</td>\n",
       "      <td>102699</td>\n",
       "      <td>567</td>\n",
       "      <td>- Yo! What up, guys?Lanky Kong here with\\nanot...</td>\n",
       "      <td>0</td>\n",
       "    </tr>\n",
       "    <tr>\n",
       "      <th>152</th>\n",
       "      <td>cigmdYsgg_4</td>\n",
       "      <td>Can We Become American Ninja Warriors (Daequan...</td>\n",
       "      <td>819705</td>\n",
       "      <td>68459</td>\n",
       "      <td>402</td>\n",
       "      <td>all rightwhat's up guys welcome to the doom an...</td>\n",
       "      <td>0</td>\n",
       "    </tr>\n",
       "    <tr>\n",
       "      <th>153</th>\n",
       "      <td>s7MTM4BKZ_E</td>\n",
       "      <td>Why Anecdotes Trump Data</td>\n",
       "      <td>980055</td>\n",
       "      <td>36060</td>\n",
       "      <td>1347</td>\n",
       "      <td>Some critics of the TV show Mythbusters claimt...</td>\n",
       "      <td>0</td>\n",
       "    </tr>\n",
       "    <tr>\n",
       "      <th>154</th>\n",
       "      <td>AjqBXAFlrTc</td>\n",
       "      <td>How Rickson Gracie Learned to Overcome Fear</td>\n",
       "      <td>471265</td>\n",
       "      <td>13724</td>\n",
       "      <td>149</td>\n",
       "      <td>the jurogan experience how old were youwhen yo...</td>\n",
       "      <td>0</td>\n",
       "    </tr>\n",
       "  </tbody>\n",
       "</table>\n",
       "<p>155 rows × 7 columns</p>\n",
       "</div>"
      ],
      "text/plain": [
       "              ID                                        Video Title     Views  \\\n",
       "0    hxwpkM5w3Cc                            I Got Hunted By The FBI  42724724   \n",
       "1    81mXAkFEkMs        10 Real Life Giants You Won't Believe Exist   6890718   \n",
       "2    9NQQKNAwaPk        10 Mythical CREATURES That Actually Existed   2089601   \n",
       "3    Y_PQrPRolvM                      Real Giants Caught On Camera!    518170   \n",
       "4    ZZtYAOpHVYk                                10 Real Life GIANTS   9244943   \n",
       "..           ...                                                ...       ...   \n",
       "150  x_qSdnjhbw4            Building an UNBREAKABLE TESSERACT CUBE!   1687124   \n",
       "151  PugcxQYJGjs    Lanky Kong listens to DK Rap for the first time    839745   \n",
       "152  cigmdYsgg_4  Can We Become American Ninja Warriors (Daequan...    819705   \n",
       "153  s7MTM4BKZ_E                           Why Anecdotes Trump Data    980055   \n",
       "154  AjqBXAFlrTc        How Rickson Gracie Learned to Overcome Fear    471265   \n",
       "\n",
       "       Likes  Dislikes                                         Transcript  \\\n",
       "0    2005151     24646  - I tied up an FBI agent.\\n(words pop)If he st...   \n",
       "1      15222      2858  hey what's happening y'all welcome backto anot...   \n",
       "2      46750      1954  I used to taste your daddy who doesn'tlove a g...   \n",
       "3       4033       271  Hi!\\nWho said that giants are imaginary and on...   \n",
       "4      64025      6508  [Music]hey guys what's up it's charlie here an...   \n",
       "..       ...       ...                                                ...   \n",
       "150    81479      1474  Of course, the main priority\\nis to make the b...   \n",
       "151   102699       567  - Yo! What up, guys?Lanky Kong here with\\nanot...   \n",
       "152    68459       402  all rightwhat's up guys welcome to the doom an...   \n",
       "153    36060      1347  Some critics of the TV show Mythbusters claimt...   \n",
       "154    13724       149  the jurogan experience how old were youwhen yo...   \n",
       "\n",
       "     class  \n",
       "0        1  \n",
       "1        1  \n",
       "2        1  \n",
       "3        1  \n",
       "4        1  \n",
       "..     ...  \n",
       "150      0  \n",
       "151      0  \n",
       "152      0  \n",
       "153      0  \n",
       "154      0  \n",
       "\n",
       "[155 rows x 7 columns]"
      ]
     },
     "execution_count": 154,
     "metadata": {},
     "output_type": "execute_result"
    }
   ],
   "source": [
    "data"
   ]
  },
  {
   "cell_type": "code",
   "execution_count": 155,
   "metadata": {
    "colab": {
     "base_uri": "https://localhost:8080/"
    },
    "id": "HiBmTcc-J4ON",
    "outputId": "b74fe957-4bac-4882-acfb-028f05287bce"
   },
   "outputs": [
    {
     "data": {
      "text/plain": [
       "0    84\n",
       "1    71\n",
       "Name: class, dtype: int64"
      ]
     },
     "execution_count": 155,
     "metadata": {},
     "output_type": "execute_result"
    }
   ],
   "source": [
    "data[\"class\"].value_counts()"
   ]
  },
  {
   "cell_type": "code",
   "execution_count": 156,
   "metadata": {
    "id": "4odvkBmxJ4LV"
   },
   "outputs": [],
   "source": [
    "def clean_and_preprocess(text):\n",
    "    # 1. Convert text to lowercase\n",
    "    text = text.lower()\n",
    "\n",
    "    # 2. Remove special characters, numbers, and punctuation\n",
    "    text = re.sub(r'[^a-zA-Z\\s]', '', text)\n",
    "\n",
    "    # 3. Tokenize the text into words\n",
    "    tokens = word_tokenize(text)\n",
    "\n",
    "    # 4. Remove stopwords\n",
    "    stop_words = set(stopwords.words('english'))\n",
    "    tokens = [word for word in tokens if word not in stop_words]\n",
    "\n",
    "    # 5. Lemmatize words (convert words to their base form)\n",
    "    lemmatizer = WordNetLemmatizer()\n",
    "    tokens = [lemmatizer.lemmatize(word) for word in tokens]\n",
    "\n",
    "    # 6. Join the preprocessed tokens back into a clean text\n",
    "    cleaned_text = ' '.join(tokens)\n",
    "\n",
    "    return cleaned_text"
   ]
  },
  {
   "cell_type": "code",
   "execution_count": 157,
   "metadata": {
    "id": "wNCxM6e2J4JC"
   },
   "outputs": [],
   "source": [
    "transcript = list(data[\"Transcript\"])\n",
    "video_title = list(data[\"Video Title\"])"
   ]
  },
  {
   "cell_type": "code",
   "execution_count": 158,
   "metadata": {
    "id": "xL9gg7xyJ3_7"
   },
   "outputs": [
    {
     "name": "stderr",
     "output_type": "stream",
     "text": [
      "[nltk_data] Downloading package omw-1.4 to\n",
      "[nltk_data]     /Users/codyoshiro/nltk_data...\n",
      "[nltk_data]   Package omw-1.4 is already up-to-date!\n"
     ]
    }
   ],
   "source": [
    "import nltk\n",
    "nltk.download('omw-1.4')\n",
    "\n",
    "cleaned_transcript_ = []\n",
    "cleaned_video_title_ = []\n",
    "\n",
    "similarity_score = []\n",
    "for i in range(len(data)):\n",
    "    cleaned_transcript = clean_and_preprocess(transcript[i])\n",
    "    cleaned_video_title = clean_and_preprocess(video_title[i])\n",
    "\n",
    "    cleaned_transcript_.append(cleaned_transcript)\n",
    "    cleaned_video_title_.append(cleaned_video_title)"
   ]
  },
  {
   "cell_type": "code",
   "execution_count": 159,
   "metadata": {
    "id": "omQz6JppDGaV"
   },
   "outputs": [],
   "source": [
    "# Create a TF-IDF vectorizer\n",
    "vectorizer = TfidfVectorizer(max_features=1000, stop_words='english')\n",
    "\n",
    "# Fit and transform the TF-IDF vectorizer on the combined text data\n",
    "tfidf_matrix = vectorizer.fit_transform(cleaned_video_title_ + cleaned_transcript_)"
   ]
  },
  {
   "cell_type": "code",
   "execution_count": 160,
   "metadata": {
    "id": "7K1iIg8eKw6Y"
   },
   "outputs": [],
   "source": [
    "# Perform Latent Semantic Analysis (LSA) using Truncated SVD\n",
    "num_topics = 1  # Adjust the number of topics as needed\n",
    "lsa = TruncatedSVD(n_components=num_topics, random_state=42)\n",
    "lsa_matrix = lsa.fit_transform(tfidf_matrix)"
   ]
  },
  {
   "cell_type": "code",
   "execution_count": 161,
   "metadata": {
    "id": "zSNBs8nCK4gl"
   },
   "outputs": [],
   "source": [
    "# Create DataFrames to display the results for titles and transcripts\n",
    "results_titles = pd.DataFrame({'Video Title': cleaned_video_title_})\n",
    "for topic_idx in range(num_topics):\n",
    "    results_titles[f'Topic {topic_idx + 1}'] = lsa_matrix[:len(cleaned_video_title_), topic_idx]\n",
    "\n",
    "results_transcripts = pd.DataFrame({'Transcript': cleaned_transcript_})\n",
    "for topic_idx in range(num_topics):\n",
    "    results_transcripts[f'Topic {topic_idx + 1}'] = lsa_matrix[len(cleaned_transcript_):, topic_idx]"
   ]
  },
  {
   "cell_type": "code",
   "execution_count": 162,
   "metadata": {
    "colab": {
     "base_uri": "https://localhost:8080/",
     "height": 423
    },
    "id": "lNkSiJLULS14",
    "outputId": "46695027-b677-4294-c77b-4d9c15b20d56"
   },
   "outputs": [
    {
     "data": {
      "text/html": [
       "<div>\n",
       "<style scoped>\n",
       "    .dataframe tbody tr th:only-of-type {\n",
       "        vertical-align: middle;\n",
       "    }\n",
       "\n",
       "    .dataframe tbody tr th {\n",
       "        vertical-align: top;\n",
       "    }\n",
       "\n",
       "    .dataframe thead th {\n",
       "        text-align: right;\n",
       "    }\n",
       "</style>\n",
       "<table border=\"1\" class=\"dataframe\">\n",
       "  <thead>\n",
       "    <tr style=\"text-align: right;\">\n",
       "      <th></th>\n",
       "      <th>Video Title</th>\n",
       "      <th>Topic 1</th>\n",
       "    </tr>\n",
       "  </thead>\n",
       "  <tbody>\n",
       "    <tr>\n",
       "      <th>0</th>\n",
       "      <td>got hunted fbi</td>\n",
       "      <td>0.203294</td>\n",
       "    </tr>\n",
       "    <tr>\n",
       "      <th>1</th>\n",
       "      <td>real life giant wont believe exist</td>\n",
       "      <td>0.049437</td>\n",
       "    </tr>\n",
       "    <tr>\n",
       "      <th>2</th>\n",
       "      <td>mythical creature actually existed</td>\n",
       "      <td>0.037122</td>\n",
       "    </tr>\n",
       "    <tr>\n",
       "      <th>3</th>\n",
       "      <td>real giant caught camera</td>\n",
       "      <td>0.039735</td>\n",
       "    </tr>\n",
       "    <tr>\n",
       "      <th>4</th>\n",
       "      <td>real life giant</td>\n",
       "      <td>0.041613</td>\n",
       "    </tr>\n",
       "    <tr>\n",
       "      <th>...</th>\n",
       "      <td>...</td>\n",
       "      <td>...</td>\n",
       "    </tr>\n",
       "    <tr>\n",
       "      <th>150</th>\n",
       "      <td>building unbreakable tesseract cube</td>\n",
       "      <td>0.008812</td>\n",
       "    </tr>\n",
       "    <tr>\n",
       "      <th>151</th>\n",
       "      <td>lanky kong listens dk rap first time</td>\n",
       "      <td>0.093379</td>\n",
       "    </tr>\n",
       "    <tr>\n",
       "      <th>152</th>\n",
       "      <td>become american ninja warrior daequan hamlinz</td>\n",
       "      <td>0.000000</td>\n",
       "    </tr>\n",
       "    <tr>\n",
       "      <th>153</th>\n",
       "      <td>anecdote trump data</td>\n",
       "      <td>0.000000</td>\n",
       "    </tr>\n",
       "    <tr>\n",
       "      <th>154</th>\n",
       "      <td>rickson gracie learned overcome fear</td>\n",
       "      <td>0.000000</td>\n",
       "    </tr>\n",
       "  </tbody>\n",
       "</table>\n",
       "<p>155 rows × 2 columns</p>\n",
       "</div>"
      ],
      "text/plain": [
       "                                       Video Title   Topic 1\n",
       "0                                   got hunted fbi  0.203294\n",
       "1               real life giant wont believe exist  0.049437\n",
       "2               mythical creature actually existed  0.037122\n",
       "3                         real giant caught camera  0.039735\n",
       "4                                  real life giant  0.041613\n",
       "..                                             ...       ...\n",
       "150            building unbreakable tesseract cube  0.008812\n",
       "151           lanky kong listens dk rap first time  0.093379\n",
       "152  become american ninja warrior daequan hamlinz  0.000000\n",
       "153                            anecdote trump data  0.000000\n",
       "154           rickson gracie learned overcome fear  0.000000\n",
       "\n",
       "[155 rows x 2 columns]"
      ]
     },
     "execution_count": 162,
     "metadata": {},
     "output_type": "execute_result"
    }
   ],
   "source": [
    "results_titles"
   ]
  },
  {
   "cell_type": "code",
   "execution_count": 163,
   "metadata": {
    "colab": {
     "base_uri": "https://localhost:8080/",
     "height": 423
    },
    "id": "2c3C6pkVLkjH",
    "outputId": "6bce3e2a-1080-4f3f-dc4c-18db5c6b2f1b"
   },
   "outputs": [
    {
     "data": {
      "text/html": [
       "<div>\n",
       "<style scoped>\n",
       "    .dataframe tbody tr th:only-of-type {\n",
       "        vertical-align: middle;\n",
       "    }\n",
       "\n",
       "    .dataframe tbody tr th {\n",
       "        vertical-align: top;\n",
       "    }\n",
       "\n",
       "    .dataframe thead th {\n",
       "        text-align: right;\n",
       "    }\n",
       "</style>\n",
       "<table border=\"1\" class=\"dataframe\">\n",
       "  <thead>\n",
       "    <tr style=\"text-align: right;\">\n",
       "      <th></th>\n",
       "      <th>Transcript</th>\n",
       "      <th>Topic 1</th>\n",
       "    </tr>\n",
       "  </thead>\n",
       "  <tbody>\n",
       "    <tr>\n",
       "      <th>0</th>\n",
       "      <td>tied fbi agent word popif steal hundred thousa...</td>\n",
       "      <td>0.429805</td>\n",
       "    </tr>\n",
       "    <tr>\n",
       "      <th>1</th>\n",
       "      <td>hey whats happening yall welcome backto anothe...</td>\n",
       "      <td>0.276514</td>\n",
       "    </tr>\n",
       "    <tr>\n",
       "      <th>2</th>\n",
       "      <td>used taste daddy doesntlove good story especia...</td>\n",
       "      <td>0.257945</td>\n",
       "    </tr>\n",
       "    <tr>\n",
       "      <th>3</th>\n",
       "      <td>hi said giant imaginary onlyexist fairy tale m...</td>\n",
       "      <td>0.252550</td>\n",
       "    </tr>\n",
       "    <tr>\n",
       "      <th>4</th>\n",
       "      <td>musichey guy whats charlie andtoday going look...</td>\n",
       "      <td>0.386751</td>\n",
       "    </tr>\n",
       "    <tr>\n",
       "      <th>...</th>\n",
       "      <td>...</td>\n",
       "      <td>...</td>\n",
       "    </tr>\n",
       "    <tr>\n",
       "      <th>150</th>\n",
       "      <td>course main priority make box unbreakablebut a...</td>\n",
       "      <td>0.569472</td>\n",
       "    </tr>\n",
       "    <tr>\n",
       "      <th>151</th>\n",
       "      <td>yo guyslanky kong another reaction videowe got...</td>\n",
       "      <td>0.437942</td>\n",
       "    </tr>\n",
       "    <tr>\n",
       "      <th>152</th>\n",
       "      <td>rightwhats guy welcome doom andninja warrior c...</td>\n",
       "      <td>0.675518</td>\n",
       "    </tr>\n",
       "    <tr>\n",
       "      <th>153</th>\n",
       "      <td>critic tv show mythbusters claimthat show misr...</td>\n",
       "      <td>0.369441</td>\n",
       "    </tr>\n",
       "    <tr>\n",
       "      <th>154</th>\n",
       "      <td>jurogan experience old youwhen first match lik...</td>\n",
       "      <td>0.461986</td>\n",
       "    </tr>\n",
       "  </tbody>\n",
       "</table>\n",
       "<p>155 rows × 2 columns</p>\n",
       "</div>"
      ],
      "text/plain": [
       "                                            Transcript   Topic 1\n",
       "0    tied fbi agent word popif steal hundred thousa...  0.429805\n",
       "1    hey whats happening yall welcome backto anothe...  0.276514\n",
       "2    used taste daddy doesntlove good story especia...  0.257945\n",
       "3    hi said giant imaginary onlyexist fairy tale m...  0.252550\n",
       "4    musichey guy whats charlie andtoday going look...  0.386751\n",
       "..                                                 ...       ...\n",
       "150  course main priority make box unbreakablebut a...  0.569472\n",
       "151  yo guyslanky kong another reaction videowe got...  0.437942\n",
       "152  rightwhats guy welcome doom andninja warrior c...  0.675518\n",
       "153  critic tv show mythbusters claimthat show misr...  0.369441\n",
       "154  jurogan experience old youwhen first match lik...  0.461986\n",
       "\n",
       "[155 rows x 2 columns]"
      ]
     },
     "execution_count": 163,
     "metadata": {},
     "output_type": "execute_result"
    }
   ],
   "source": [
    "results_transcripts"
   ]
  },
  {
   "cell_type": "code",
   "execution_count": 164,
   "metadata": {
    "id": "ZwBtgY47LmUv"
   },
   "outputs": [],
   "source": [
    "label_list = []\n",
    "for i in range(len(scores_df)):\n",
    "  if results_titles[\"Topic 1\"][i] >= 0.25 or results_transcripts[\"Topic 1\"][i] >= 0.25:\n",
    "    label_list.append(1)\n",
    "  else:\n",
    "    label_list.append(0)"
   ]
  },
  {
   "cell_type": "code",
   "execution_count": 165,
   "metadata": {
    "colab": {
     "base_uri": "https://localhost:8080/"
    },
    "id": "OectpnUvO1dM",
    "outputId": "6c9bb2c5-d85f-48b4-e30d-f74223149add"
   },
   "outputs": [
    {
     "data": {
      "text/plain": [
       "[1,\n",
       " 1,\n",
       " 1,\n",
       " 1,\n",
       " 1,\n",
       " 0,\n",
       " 1,\n",
       " 0,\n",
       " 1,\n",
       " 1,\n",
       " 1,\n",
       " 1,\n",
       " 1,\n",
       " 1,\n",
       " 1,\n",
       " 1,\n",
       " 1,\n",
       " 1,\n",
       " 1,\n",
       " 1,\n",
       " 1,\n",
       " 1,\n",
       " 1,\n",
       " 1,\n",
       " 1,\n",
       " 1,\n",
       " 1,\n",
       " 1,\n",
       " 0,\n",
       " 1,\n",
       " 1,\n",
       " 0,\n",
       " 0,\n",
       " 0,\n",
       " 1,\n",
       " 1,\n",
       " 1,\n",
       " 1,\n",
       " 1,\n",
       " 1,\n",
       " 1,\n",
       " 1,\n",
       " 1,\n",
       " 1,\n",
       " 1,\n",
       " 1,\n",
       " 1,\n",
       " 1,\n",
       " 1,\n",
       " 1,\n",
       " 1,\n",
       " 1,\n",
       " 1,\n",
       " 0,\n",
       " 1,\n",
       " 1,\n",
       " 1,\n",
       " 1,\n",
       " 1,\n",
       " 0,\n",
       " 0,\n",
       " 0,\n",
       " 1,\n",
       " 1,\n",
       " 1,\n",
       " 1,\n",
       " 1,\n",
       " 1,\n",
       " 1,\n",
       " 1,\n",
       " 1,\n",
       " 1,\n",
       " 1,\n",
       " 0,\n",
       " 1,\n",
       " 1,\n",
       " 1,\n",
       " 1,\n",
       " 1,\n",
       " 1,\n",
       " 1,\n",
       " 1,\n",
       " 1,\n",
       " 1,\n",
       " 1,\n",
       " 1,\n",
       " 1,\n",
       " 1,\n",
       " 0,\n",
       " 1,\n",
       " 1,\n",
       " 1,\n",
       " 0,\n",
       " 1,\n",
       " 0,\n",
       " 1,\n",
       " 1,\n",
       " 1,\n",
       " 0,\n",
       " 1,\n",
       " 1,\n",
       " 1,\n",
       " 0,\n",
       " 1,\n",
       " 1,\n",
       " 1,\n",
       " 1,\n",
       " 0,\n",
       " 1,\n",
       " 1,\n",
       " 1,\n",
       " 1,\n",
       " 1,\n",
       " 1,\n",
       " 1,\n",
       " 0,\n",
       " 0,\n",
       " 1,\n",
       " 1,\n",
       " 1,\n",
       " 1,\n",
       " 1,\n",
       " 1,\n",
       " 1,\n",
       " 1,\n",
       " 1,\n",
       " 1,\n",
       " 1,\n",
       " 1,\n",
       " 1,\n",
       " 1,\n",
       " 0,\n",
       " 1,\n",
       " 1,\n",
       " 1,\n",
       " 0,\n",
       " 1,\n",
       " 1,\n",
       " 1,\n",
       " 0,\n",
       " 1,\n",
       " 0,\n",
       " 0,\n",
       " 1,\n",
       " 1,\n",
       " 1,\n",
       " 1,\n",
       " 1,\n",
       " 1,\n",
       " 1,\n",
       " 1,\n",
       " 1,\n",
       " 1,\n",
       " 1,\n",
       " 1]"
      ]
     },
     "execution_count": 165,
     "metadata": {},
     "output_type": "execute_result"
    }
   ],
   "source": [
    "label_list"
   ]
  },
  {
   "cell_type": "code",
   "execution_count": 166,
   "metadata": {
    "id": "qcevkvX4M0SM"
   },
   "outputs": [],
   "source": [
    "true_labels = data[\"class\"]"
   ]
  },
  {
   "cell_type": "code",
   "execution_count": 167,
   "metadata": {
    "id": "XEfBb7i0M5zk"
   },
   "outputs": [],
   "source": [
    "True_clickbait = 0\n",
    "False_clickbait = 0\n",
    "\n",
    "True_nonclickbait = 0\n",
    "False_nonclickbiat = 0\n",
    "\n",
    "for i in range(len(true_labels)):\n",
    "  if label_list[i] == 1 and  true_labels[i] == 1:\n",
    "    True_clickbait += 1\n",
    "  elif label_list[i] == 1 and  true_labels[i] == 0:\n",
    "    False_clickbait += 1\n",
    "  elif label_list[i] == 0 and  true_labels[i] == 1:\n",
    "    False_nonclickbiat += 1\n",
    "  elif label_list[i] == 0 and  true_labels[i] == 0:\n",
    "    True_nonclickbait += 1"
   ]
  },
  {
   "cell_type": "code",
   "execution_count": 168,
   "metadata": {
    "colab": {
     "base_uri": "https://localhost:8080/"
    },
    "id": "Td8yjBGkNEI5",
    "outputId": "6a9c786a-c538-41b2-9d1d-d5d3a64e0f59"
   },
   "outputs": [
    {
     "name": "stdout",
     "output_type": "stream",
     "text": [
      "True_clickbait 61\n",
      "False_clickbait 70\n",
      "True_nonclickbait 14\n",
      "False_nonclickbiat 10\n"
     ]
    }
   ],
   "source": [
    "print(\"True_clickbait\", True_clickbait)\n",
    "print(\"False_clickbait\", False_clickbait)\n",
    "\n",
    "print(\"True_nonclickbait\", True_nonclickbait)\n",
    "print(\"False_nonclickbiat\", False_nonclickbiat)"
   ]
  },
  {
   "cell_type": "code",
   "execution_count": 169,
   "metadata": {
    "colab": {
     "base_uri": "https://localhost:8080/"
    },
    "id": "7G1QPOtHOLXb",
    "outputId": "8d8a4f6a-4cd9-4b6c-da2d-4e8a47c5d57f"
   },
   "outputs": [
    {
     "data": {
      "text/plain": [
       "0.4838709677419355"
      ]
     },
     "execution_count": 169,
     "metadata": {},
     "output_type": "execute_result"
    }
   ],
   "source": [
    "accuracy = (True_clickbait + True_nonclickbait) / (True_clickbait + False_clickbait + True_nonclickbait + False_nonclickbiat)\n",
    "accuracy"
   ]
  },
  {
   "cell_type": "code",
   "execution_count": 170,
   "metadata": {
    "colab": {
     "base_uri": "https://localhost:8080/"
    },
    "id": "9CVV0cNVlHhT",
    "outputId": "d53a52e3-afe1-48b3-ff5f-a646bc758082"
   },
   "outputs": [
    {
     "data": {
      "text/plain": [
       "0.46564885496183206"
      ]
     },
     "execution_count": 170,
     "metadata": {},
     "output_type": "execute_result"
    }
   ],
   "source": [
    "Precision = True_clickbait / (True_clickbait + False_clickbait)\n",
    "Precision"
   ]
  },
  {
   "cell_type": "code",
   "execution_count": 171,
   "metadata": {
    "colab": {
     "base_uri": "https://localhost:8080/"
    },
    "id": "Yt7v3xDTlKCC",
    "outputId": "8b9412c3-ae27-4f5f-a02b-7f9d93658316"
   },
   "outputs": [
    {
     "data": {
      "text/plain": [
       "0.8591549295774648"
      ]
     },
     "execution_count": 171,
     "metadata": {},
     "output_type": "execute_result"
    }
   ],
   "source": [
    "Recall = True_clickbait / (True_clickbait + False_nonclickbiat)\n",
    "Recall"
   ]
  },
  {
   "cell_type": "code",
   "execution_count": 172,
   "metadata": {},
   "outputs": [
    {
     "data": {
      "text/html": [
       "<div>\n",
       "<style scoped>\n",
       "    .dataframe tbody tr th:only-of-type {\n",
       "        vertical-align: middle;\n",
       "    }\n",
       "\n",
       "    .dataframe tbody tr th {\n",
       "        vertical-align: top;\n",
       "    }\n",
       "\n",
       "    .dataframe thead th {\n",
       "        text-align: right;\n",
       "    }\n",
       "</style>\n",
       "<table border=\"1\" class=\"dataframe\">\n",
       "  <thead>\n",
       "    <tr style=\"text-align: right;\">\n",
       "      <th></th>\n",
       "      <th>class</th>\n",
       "      <th>Title Scores</th>\n",
       "      <th>Transcript Scores</th>\n",
       "      <th>Views</th>\n",
       "      <th>Likes</th>\n",
       "      <th>Dislikes</th>\n",
       "      <th>LSA Feature</th>\n",
       "    </tr>\n",
       "  </thead>\n",
       "  <tbody>\n",
       "    <tr>\n",
       "      <th>0</th>\n",
       "      <td>1</td>\n",
       "      <td>0.203294</td>\n",
       "      <td>0.429805</td>\n",
       "      <td>42724724</td>\n",
       "      <td>2005151</td>\n",
       "      <td>24646</td>\n",
       "      <td>0</td>\n",
       "    </tr>\n",
       "    <tr>\n",
       "      <th>1</th>\n",
       "      <td>1</td>\n",
       "      <td>0.049437</td>\n",
       "      <td>0.276514</td>\n",
       "      <td>6890718</td>\n",
       "      <td>15222</td>\n",
       "      <td>2858</td>\n",
       "      <td>0</td>\n",
       "    </tr>\n",
       "    <tr>\n",
       "      <th>2</th>\n",
       "      <td>1</td>\n",
       "      <td>0.037122</td>\n",
       "      <td>0.257945</td>\n",
       "      <td>2089601</td>\n",
       "      <td>46750</td>\n",
       "      <td>1954</td>\n",
       "      <td>0</td>\n",
       "    </tr>\n",
       "    <tr>\n",
       "      <th>3</th>\n",
       "      <td>1</td>\n",
       "      <td>0.039735</td>\n",
       "      <td>0.252550</td>\n",
       "      <td>518170</td>\n",
       "      <td>4033</td>\n",
       "      <td>271</td>\n",
       "      <td>0</td>\n",
       "    </tr>\n",
       "    <tr>\n",
       "      <th>4</th>\n",
       "      <td>1</td>\n",
       "      <td>0.041613</td>\n",
       "      <td>0.386751</td>\n",
       "      <td>9244943</td>\n",
       "      <td>64025</td>\n",
       "      <td>6508</td>\n",
       "      <td>0</td>\n",
       "    </tr>\n",
       "    <tr>\n",
       "      <th>...</th>\n",
       "      <td>...</td>\n",
       "      <td>...</td>\n",
       "      <td>...</td>\n",
       "      <td>...</td>\n",
       "      <td>...</td>\n",
       "      <td>...</td>\n",
       "      <td>...</td>\n",
       "    </tr>\n",
       "    <tr>\n",
       "      <th>150</th>\n",
       "      <td>0</td>\n",
       "      <td>0.008812</td>\n",
       "      <td>0.569472</td>\n",
       "      <td>1687124</td>\n",
       "      <td>81479</td>\n",
       "      <td>1474</td>\n",
       "      <td>0</td>\n",
       "    </tr>\n",
       "    <tr>\n",
       "      <th>151</th>\n",
       "      <td>0</td>\n",
       "      <td>0.093379</td>\n",
       "      <td>0.437942</td>\n",
       "      <td>839745</td>\n",
       "      <td>102699</td>\n",
       "      <td>567</td>\n",
       "      <td>0</td>\n",
       "    </tr>\n",
       "    <tr>\n",
       "      <th>152</th>\n",
       "      <td>0</td>\n",
       "      <td>0.000000</td>\n",
       "      <td>0.675518</td>\n",
       "      <td>819705</td>\n",
       "      <td>68459</td>\n",
       "      <td>402</td>\n",
       "      <td>0</td>\n",
       "    </tr>\n",
       "    <tr>\n",
       "      <th>153</th>\n",
       "      <td>0</td>\n",
       "      <td>0.000000</td>\n",
       "      <td>0.369441</td>\n",
       "      <td>980055</td>\n",
       "      <td>36060</td>\n",
       "      <td>1347</td>\n",
       "      <td>0</td>\n",
       "    </tr>\n",
       "    <tr>\n",
       "      <th>154</th>\n",
       "      <td>0</td>\n",
       "      <td>0.000000</td>\n",
       "      <td>0.461986</td>\n",
       "      <td>471265</td>\n",
       "      <td>13724</td>\n",
       "      <td>149</td>\n",
       "      <td>0</td>\n",
       "    </tr>\n",
       "  </tbody>\n",
       "</table>\n",
       "<p>155 rows × 7 columns</p>\n",
       "</div>"
      ],
      "text/plain": [
       "     class  Title Scores  Transcript Scores     Views    Likes  Dislikes  \\\n",
       "0        1      0.203294           0.429805  42724724  2005151     24646   \n",
       "1        1      0.049437           0.276514   6890718    15222      2858   \n",
       "2        1      0.037122           0.257945   2089601    46750      1954   \n",
       "3        1      0.039735           0.252550    518170     4033       271   \n",
       "4        1      0.041613           0.386751   9244943    64025      6508   \n",
       "..     ...           ...                ...       ...      ...       ...   \n",
       "150      0      0.008812           0.569472   1687124    81479      1474   \n",
       "151      0      0.093379           0.437942    839745   102699       567   \n",
       "152      0      0.000000           0.675518    819705    68459       402   \n",
       "153      0      0.000000           0.369441    980055    36060      1347   \n",
       "154      0      0.000000           0.461986    471265    13724       149   \n",
       "\n",
       "     LSA Feature  \n",
       "0              0  \n",
       "1              0  \n",
       "2              0  \n",
       "3              0  \n",
       "4              0  \n",
       "..           ...  \n",
       "150            0  \n",
       "151            0  \n",
       "152            0  \n",
       "153            0  \n",
       "154            0  \n",
       "\n",
       "[155 rows x 7 columns]"
      ]
     },
     "execution_count": 172,
     "metadata": {},
     "output_type": "execute_result"
    }
   ],
   "source": [
    "#creating data frame with video title and scores\n",
    "results_titles_scores = pd.DataFrame({'Video Title': cleaned_video_title_})\n",
    "for topic_idx in range(num_topics):\n",
    "    results_titles_scores[f'Topic {topic_idx + 1}'] = lsa_matrix[:len(cleaned_video_title_), topic_idx]\n",
    "\n",
    "#creating data frame with transcipt and scores\n",
    "results_transcripts_scores = pd.DataFrame({'Transcript': cleaned_transcript_})\n",
    "for topic_idx in range(num_topics):\n",
    "    results_transcripts_scores[f'Topic {topic_idx + 1}'] = lsa_matrix[len(cleaned_transcript_):, topic_idx]\n",
    "\n",
    "scores_df = pd.DataFrame(data['class'])\n",
    "\n",
    "for topic_idx in range(num_topics):\n",
    "    scores_df['Title Scores'] = lsa_matrix[:len(cleaned_video_title_), topic_idx]\n",
    "    scores_df['Transcript Scores'] = lsa_matrix[len(cleaned_transcript_):, topic_idx]\n",
    "    scores_df['Views'] = data['Views']\n",
    "    scores_df['Likes'] = data['Likes']\n",
    "    scores_df['Dislikes'] = data['Dislikes']\n",
    "    scores_df['LSA Feature'] = 0\n",
    "    \n",
    "\n",
    "scores_df"
   ]
  },
  {
   "cell_type": "code",
   "execution_count": 173,
   "metadata": {},
   "outputs": [
    {
     "name": "stderr",
     "output_type": "stream",
     "text": [
      "/Users/codyoshiro/opt/anaconda3/lib/python3.9/site-packages/pandas/core/indexing.py:1637: SettingWithCopyWarning: \n",
      "A value is trying to be set on a copy of a slice from a DataFrame\n",
      "\n",
      "See the caveats in the documentation: https://pandas.pydata.org/pandas-docs/stable/user_guide/indexing.html#returning-a-view-versus-a-copy\n",
      "  self._setitem_single_block(indexer, value, name)\n"
     ]
    },
    {
     "data": {
      "text/html": [
       "<div>\n",
       "<style scoped>\n",
       "    .dataframe tbody tr th:only-of-type {\n",
       "        vertical-align: middle;\n",
       "    }\n",
       "\n",
       "    .dataframe tbody tr th {\n",
       "        vertical-align: top;\n",
       "    }\n",
       "\n",
       "    .dataframe thead th {\n",
       "        text-align: right;\n",
       "    }\n",
       "</style>\n",
       "<table border=\"1\" class=\"dataframe\">\n",
       "  <thead>\n",
       "    <tr style=\"text-align: right;\">\n",
       "      <th></th>\n",
       "      <th>class</th>\n",
       "      <th>Views</th>\n",
       "      <th>Likes</th>\n",
       "      <th>Dislikes</th>\n",
       "      <th>LSA Feature</th>\n",
       "    </tr>\n",
       "  </thead>\n",
       "  <tbody>\n",
       "    <tr>\n",
       "      <th>0</th>\n",
       "      <td>1</td>\n",
       "      <td>42724724</td>\n",
       "      <td>2005151</td>\n",
       "      <td>24646</td>\n",
       "      <td>1</td>\n",
       "    </tr>\n",
       "    <tr>\n",
       "      <th>1</th>\n",
       "      <td>1</td>\n",
       "      <td>6890718</td>\n",
       "      <td>15222</td>\n",
       "      <td>2858</td>\n",
       "      <td>1</td>\n",
       "    </tr>\n",
       "    <tr>\n",
       "      <th>2</th>\n",
       "      <td>1</td>\n",
       "      <td>2089601</td>\n",
       "      <td>46750</td>\n",
       "      <td>1954</td>\n",
       "      <td>1</td>\n",
       "    </tr>\n",
       "    <tr>\n",
       "      <th>3</th>\n",
       "      <td>1</td>\n",
       "      <td>518170</td>\n",
       "      <td>4033</td>\n",
       "      <td>271</td>\n",
       "      <td>1</td>\n",
       "    </tr>\n",
       "    <tr>\n",
       "      <th>4</th>\n",
       "      <td>1</td>\n",
       "      <td>9244943</td>\n",
       "      <td>64025</td>\n",
       "      <td>6508</td>\n",
       "      <td>1</td>\n",
       "    </tr>\n",
       "    <tr>\n",
       "      <th>...</th>\n",
       "      <td>...</td>\n",
       "      <td>...</td>\n",
       "      <td>...</td>\n",
       "      <td>...</td>\n",
       "      <td>...</td>\n",
       "    </tr>\n",
       "    <tr>\n",
       "      <th>150</th>\n",
       "      <td>0</td>\n",
       "      <td>1687124</td>\n",
       "      <td>81479</td>\n",
       "      <td>1474</td>\n",
       "      <td>1</td>\n",
       "    </tr>\n",
       "    <tr>\n",
       "      <th>151</th>\n",
       "      <td>0</td>\n",
       "      <td>839745</td>\n",
       "      <td>102699</td>\n",
       "      <td>567</td>\n",
       "      <td>1</td>\n",
       "    </tr>\n",
       "    <tr>\n",
       "      <th>152</th>\n",
       "      <td>0</td>\n",
       "      <td>819705</td>\n",
       "      <td>68459</td>\n",
       "      <td>402</td>\n",
       "      <td>1</td>\n",
       "    </tr>\n",
       "    <tr>\n",
       "      <th>153</th>\n",
       "      <td>0</td>\n",
       "      <td>980055</td>\n",
       "      <td>36060</td>\n",
       "      <td>1347</td>\n",
       "      <td>1</td>\n",
       "    </tr>\n",
       "    <tr>\n",
       "      <th>154</th>\n",
       "      <td>0</td>\n",
       "      <td>471265</td>\n",
       "      <td>13724</td>\n",
       "      <td>149</td>\n",
       "      <td>1</td>\n",
       "    </tr>\n",
       "  </tbody>\n",
       "</table>\n",
       "<p>155 rows × 5 columns</p>\n",
       "</div>"
      ],
      "text/plain": [
       "     class     Views    Likes  Dislikes  LSA Feature\n",
       "0        1  42724724  2005151     24646            1\n",
       "1        1   6890718    15222      2858            1\n",
       "2        1   2089601    46750      1954            1\n",
       "3        1    518170     4033       271            1\n",
       "4        1   9244943    64025      6508            1\n",
       "..     ...       ...      ...       ...          ...\n",
       "150      0   1687124    81479      1474            1\n",
       "151      0    839745   102699       567            1\n",
       "152      0    819705    68459       402            1\n",
       "153      0    980055    36060      1347            1\n",
       "154      0    471265    13724       149            1\n",
       "\n",
       "[155 rows x 5 columns]"
      ]
     },
     "execution_count": 173,
     "metadata": {},
     "output_type": "execute_result"
    }
   ],
   "source": [
    "for i in range(len(scores_df)):\n",
    "  if results_titles[\"Topic 1\"][i] >= 0.001 or results_transcripts[\"Topic 1\"][i] >= 0.001:\n",
    "    scores_df[\"LSA Feature\"].iloc[i] = 1\n",
    "  else:\n",
    "    scores_df[\"LSA Feature\"].iloc[i] = 0\n",
    "    \n",
    "scores_df = scores_df.drop(columns = [\"Title Scores\", \"Transcript Scores\"])\n",
    "scores_df"
   ]
  },
  {
   "cell_type": "code",
   "execution_count": 174,
   "metadata": {},
   "outputs": [
    {
     "data": {
      "text/plain": [
       "1    155\n",
       "Name: LSA Feature, dtype: int64"
      ]
     },
     "execution_count": 174,
     "metadata": {},
     "output_type": "execute_result"
    }
   ],
   "source": [
    "scores_df[\"LSA Feature\"].value_counts()"
   ]
  },
  {
   "cell_type": "code",
   "execution_count": 175,
   "metadata": {},
   "outputs": [
    {
     "data": {
      "text/html": [
       "<div>\n",
       "<style scoped>\n",
       "    .dataframe tbody tr th:only-of-type {\n",
       "        vertical-align: middle;\n",
       "    }\n",
       "\n",
       "    .dataframe tbody tr th {\n",
       "        vertical-align: top;\n",
       "    }\n",
       "\n",
       "    .dataframe thead th {\n",
       "        text-align: right;\n",
       "    }\n",
       "</style>\n",
       "<table border=\"1\" class=\"dataframe\">\n",
       "  <thead>\n",
       "    <tr style=\"text-align: right;\">\n",
       "      <th></th>\n",
       "      <th>class</th>\n",
       "      <th>Views</th>\n",
       "      <th>Likes</th>\n",
       "      <th>Dislikes</th>\n",
       "      <th>LSA Feature</th>\n",
       "    </tr>\n",
       "  </thead>\n",
       "  <tbody>\n",
       "    <tr>\n",
       "      <th>0</th>\n",
       "      <td>1</td>\n",
       "      <td>42724724</td>\n",
       "      <td>2005151</td>\n",
       "      <td>24646</td>\n",
       "      <td>1</td>\n",
       "    </tr>\n",
       "    <tr>\n",
       "      <th>1</th>\n",
       "      <td>1</td>\n",
       "      <td>6890718</td>\n",
       "      <td>15222</td>\n",
       "      <td>2858</td>\n",
       "      <td>1</td>\n",
       "    </tr>\n",
       "    <tr>\n",
       "      <th>2</th>\n",
       "      <td>1</td>\n",
       "      <td>2089601</td>\n",
       "      <td>46750</td>\n",
       "      <td>1954</td>\n",
       "      <td>1</td>\n",
       "    </tr>\n",
       "    <tr>\n",
       "      <th>3</th>\n",
       "      <td>1</td>\n",
       "      <td>518170</td>\n",
       "      <td>4033</td>\n",
       "      <td>271</td>\n",
       "      <td>1</td>\n",
       "    </tr>\n",
       "    <tr>\n",
       "      <th>4</th>\n",
       "      <td>1</td>\n",
       "      <td>9244943</td>\n",
       "      <td>64025</td>\n",
       "      <td>6508</td>\n",
       "      <td>1</td>\n",
       "    </tr>\n",
       "    <tr>\n",
       "      <th>...</th>\n",
       "      <td>...</td>\n",
       "      <td>...</td>\n",
       "      <td>...</td>\n",
       "      <td>...</td>\n",
       "      <td>...</td>\n",
       "    </tr>\n",
       "    <tr>\n",
       "      <th>150</th>\n",
       "      <td>0</td>\n",
       "      <td>1687124</td>\n",
       "      <td>81479</td>\n",
       "      <td>1474</td>\n",
       "      <td>1</td>\n",
       "    </tr>\n",
       "    <tr>\n",
       "      <th>151</th>\n",
       "      <td>0</td>\n",
       "      <td>839745</td>\n",
       "      <td>102699</td>\n",
       "      <td>567</td>\n",
       "      <td>1</td>\n",
       "    </tr>\n",
       "    <tr>\n",
       "      <th>152</th>\n",
       "      <td>0</td>\n",
       "      <td>819705</td>\n",
       "      <td>68459</td>\n",
       "      <td>402</td>\n",
       "      <td>1</td>\n",
       "    </tr>\n",
       "    <tr>\n",
       "      <th>153</th>\n",
       "      <td>0</td>\n",
       "      <td>980055</td>\n",
       "      <td>36060</td>\n",
       "      <td>1347</td>\n",
       "      <td>1</td>\n",
       "    </tr>\n",
       "    <tr>\n",
       "      <th>154</th>\n",
       "      <td>0</td>\n",
       "      <td>471265</td>\n",
       "      <td>13724</td>\n",
       "      <td>149</td>\n",
       "      <td>1</td>\n",
       "    </tr>\n",
       "  </tbody>\n",
       "</table>\n",
       "<p>155 rows × 5 columns</p>\n",
       "</div>"
      ],
      "text/plain": [
       "     class     Views    Likes  Dislikes  LSA Feature\n",
       "0        1  42724724  2005151     24646            1\n",
       "1        1   6890718    15222      2858            1\n",
       "2        1   2089601    46750      1954            1\n",
       "3        1    518170     4033       271            1\n",
       "4        1   9244943    64025      6508            1\n",
       "..     ...       ...      ...       ...          ...\n",
       "150      0   1687124    81479      1474            1\n",
       "151      0    839745   102699       567            1\n",
       "152      0    819705    68459       402            1\n",
       "153      0    980055    36060      1347            1\n",
       "154      0    471265    13724       149            1\n",
       "\n",
       "[155 rows x 5 columns]"
      ]
     },
     "execution_count": 175,
     "metadata": {},
     "output_type": "execute_result"
    }
   ],
   "source": [
    "scores_df"
   ]
  },
  {
   "cell_type": "code",
   "execution_count": 176,
   "metadata": {},
   "outputs": [],
   "source": [
    "#SVM Imports\n",
    "import numpy as np\n",
    "import pandas as pd\n",
    "import matplotlib.pyplot as plt\n",
    "from sklearn.svm import SVC\n",
    "from sklearn.model_selection import train_test_split\n",
    "from sklearn import metrics\n",
    "\n",
    "#Logistic Regression Imports\n",
    "from sklearn import linear_model\n",
    "\n",
    "#KNN Imports\n",
    "from sklearn.neighbors import KNeighborsClassifier \n",
    "from sklearn.model_selection import train_test_split \n",
    "\n",
    "#Naive Bayes Imports\n",
    "from sklearn.naive_bayes import GaussianNB\n",
    "\n",
    "#Gaussian Process Regression\n",
    "from sklearn.gaussian_process import GaussianProcessRegressor\n",
    "from sklearn.gaussian_process.kernels import RBF\n",
    "\n",
    "#pre: df_xcols and ydf_ycol are columns of a data frame.\n",
    "#if inserting multiple cols to df_xcols, enter parameter as 'col1, col2'\n",
    "#df is a dataframe\n",
    "#df_ycols is target column of data frame\n",
    "def train_svm(df, df_xcols, df_ycol, kernel_type):\n",
    "    x_svm = df[df_xcols]\n",
    "    y_svm = df[df_ycol]\n",
    "    # Split dataset into training set and test set\n",
    "    X_train, X_test, y_train, y_test = train_test_split(x_svm, y_svm, test_size=0.3) # 70% training and 30% test\n",
    "\n",
    "    clf = SVC(kernel=kernel_type)\n",
    "    clf.fit(X_train, y_train)\n",
    "    y_pred = clf.predict(X_test)\n",
    "    \n",
    "    # Model Accuracy: how often is the classifier correct?\n",
    "    print(\"Accuracy:\",metrics.accuracy_score(y_test, y_pred))\n",
    "    \n",
    "    #Model Precision\n",
    "    print(\"Precision:\",metrics.precision_score(y_test, y_pred))\n",
    "\n",
    "    #Model Recall\n",
    "    print(\"Recall:\",metrics.recall_score(y_test, y_pred))\n",
    "    \n",
    "    #Model F1 Score\n",
    "    print(\"F1 Score: \", metrics.f1_score(y_test, y_pred))\n",
    "    \n",
    "    return clf\n",
    "    \n",
    "def train_logr(df, feature_cols, df_ycol):\n",
    "    x_logr = df[feature_cols]\n",
    "    y_logr = df[df_ycol]\n",
    "    #split dataset into training set and test set\n",
    "    X_train, X_test, y_train, y_test = train_test_split(x_logr, y_logr, test_size=0.3) # 70% training and 30% test\n",
    "\n",
    "    logr = linear_model.LogisticRegression(max_iter = 1000)\n",
    "    logr.fit(X_train, y_train.values.ravel())\n",
    "    y_pred = logr.predict(X_test)\n",
    "    \n",
    "    #Model Accuracy\n",
    "    print(\"Accuracy:\",metrics.accuracy_score(y_test, y_pred))\n",
    "    \n",
    "    #Model Precision\n",
    "    print(\"Precision:\",metrics.precision_score(y_test, y_pred))\n",
    "\n",
    "    #Model Recall\n",
    "    print(\"Recall:\",metrics.recall_score(y_test, y_pred))\n",
    "    \n",
    "    #Model F1 Score\n",
    "    print(\"F1 Score: \", metrics.f1_score(y_test, y_pred))\n",
    "    \n",
    "    return logr\n",
    "\n",
    "def train_KNN(df, feature_cols, df_ycol, neighbors):\n",
    "\n",
    "    # Create feature and target arrays \n",
    "    x_KNN = df[feature_cols]\n",
    "    y_KNN = df[df_ycol]\n",
    "\n",
    "    # Split into training and test set \n",
    "    X_train, X_test, y_train, y_test = train_test_split(x_KNN, y_KNN, test_size = 0.3) \n",
    "\n",
    "    knn = KNeighborsClassifier(n_neighbors=neighbors) \n",
    "\n",
    "    knn.fit(X_train, y_train) \n",
    "\n",
    "    # Predict on dataset which model has not seen before \n",
    "    y_pred = knn.predict(X_test)\n",
    "    \n",
    "    #Model Accuracy\n",
    "    print(\"Accuracy:\",metrics.accuracy_score(y_test, y_pred))\n",
    "    \n",
    "    #Model Precision\n",
    "    print(\"Precision:\",metrics.precision_score(y_test, y_pred))\n",
    "\n",
    "    #Model Recall\n",
    "    print(\"Recall:\",metrics.recall_score(y_test, y_pred))\n",
    "    \n",
    "    #Model F1 Score\n",
    "    print(\"F1 Score: \", metrics.f1_score(y_test, y_pred))\n",
    "    \n",
    "    return knn"
   ]
  },
  {
   "cell_type": "code",
   "execution_count": 177,
   "metadata": {
    "scrolled": true
   },
   "outputs": [
    {
     "name": "stdout",
     "output_type": "stream",
     "text": [
      "Accuracy: 0.6595744680851063\n",
      "Precision: 0.8333333333333334\n",
      "Recall: 0.4166666666666667\n",
      "F1 Score:  0.5555555555555556\n"
     ]
    }
   ],
   "source": [
    "#Below are the models trained on the features w/o topic modeling techniques applied\n",
    "model = train_svm(scores_df, ['Views', 'Likes', 'Dislikes'], 'class', 'rbf')"
   ]
  },
  {
   "cell_type": "code",
   "execution_count": 178,
   "metadata": {},
   "outputs": [
    {
     "name": "stdout",
     "output_type": "stream",
     "text": [
      "Accuracy: 0.8297872340425532\n",
      "Precision: 0.85\n",
      "Recall: 0.7727272727272727\n",
      "F1 Score:  0.8095238095238095\n"
     ]
    }
   ],
   "source": [
    "model = train_logr(scores_df, ['Views', 'Likes', 'Dislikes'], 'class')"
   ]
  },
  {
   "cell_type": "code",
   "execution_count": 179,
   "metadata": {},
   "outputs": [
    {
     "name": "stdout",
     "output_type": "stream",
     "text": [
      "Accuracy: 0.723404255319149\n",
      "Precision: 0.6521739130434783\n",
      "Recall: 0.75\n",
      "F1 Score:  0.6976744186046512\n"
     ]
    }
   ],
   "source": [
    "model = train_KNN(scores_df, ['Views', 'Likes', 'Dislikes'], 'class', 7)"
   ]
  },
  {
   "cell_type": "code",
   "execution_count": 180,
   "metadata": {},
   "outputs": [],
   "source": [
    "#trained with LSA Feauture"
   ]
  },
  {
   "cell_type": "code",
   "execution_count": 181,
   "metadata": {},
   "outputs": [
    {
     "name": "stdout",
     "output_type": "stream",
     "text": [
      "Accuracy: 0.7872340425531915\n",
      "Precision: 0.8333333333333334\n",
      "Recall: 0.6818181818181818\n",
      "F1 Score:  0.75\n"
     ]
    }
   ],
   "source": [
    "model = train_logr(scores_df, ['Views', 'Likes', 'Dislikes', 'LSA Feature'], 'class')\n",
    "#adding the new features here minorly improves accuracy by ~2% but significantly improves recall and F1 score."
   ]
  },
  {
   "cell_type": "code",
   "execution_count": 182,
   "metadata": {},
   "outputs": [
    {
     "name": "stdout",
     "output_type": "stream",
     "text": [
      "Accuracy: 0.8085106382978723\n",
      "Precision: 0.8260869565217391\n",
      "Recall: 0.7916666666666666\n",
      "F1 Score:  0.8085106382978723\n"
     ]
    }
   ],
   "source": [
    "model = train_KNN(scores_df, ['Views', 'Likes', 'Dislikes', 'LSA Feature'], 'class', 7)"
   ]
  },
  {
   "cell_type": "code",
   "execution_count": 188,
   "metadata": {},
   "outputs": [
    {
     "name": "stdout",
     "output_type": "stream",
     "text": [
      "Accuracy: 0.851063829787234\n",
      "Precision: 1.0\n",
      "Recall: 0.6956521739130435\n",
      "F1 Score:  0.8205128205128205\n"
     ]
    }
   ],
   "source": [
    "model = train_svm(scores_df, ['Views', 'Likes', 'Dislikes', 'LSA Feature'], 'class', 'rbf')"
   ]
  },
  {
   "cell_type": "code",
   "execution_count": null,
   "metadata": {},
   "outputs": [],
   "source": []
  }
 ],
 "metadata": {
  "colab": {
   "provenance": []
  },
  "kernelspec": {
   "display_name": "Python 3 (ipykernel)",
   "language": "python",
   "name": "python3"
  },
  "language_info": {
   "codemirror_mode": {
    "name": "ipython",
    "version": 3
   },
   "file_extension": ".py",
   "mimetype": "text/x-python",
   "name": "python",
   "nbconvert_exporter": "python",
   "pygments_lexer": "ipython3",
   "version": "3.9.12"
  }
 },
 "nbformat": 4,
 "nbformat_minor": 1
}
